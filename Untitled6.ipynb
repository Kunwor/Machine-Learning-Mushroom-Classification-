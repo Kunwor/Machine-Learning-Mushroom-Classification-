{
 "cells": [
  {
   "cell_type": "markdown",
   "id": "c6666a04-3f22-4873-bdbb-fafc3a8e5613",
   "metadata": {},
   "source": [
    "# Assignment 6: Mushroom Classification \n",
    "  DTSC-680: Applied Machine Learning \n"
   ]
  },
  {
   "cell_type": "markdown",
   "id": "5aab8f69-6395-4eb1-be56-5b8d3b6ec7b4",
   "metadata": {},
   "source": [
    "## Overview\n",
    "This notebook implements a binary classification task to predict whether mushrooms are edible ('e') or poisonous ('p') using a neural network. The workflow includes data preprocessing (column assignment, train-test split, one-hot encoding), building a baseline sequential neural network, and evaluating performance via confusion matrices. Then, PCA reduces dimensionality while preserving 95% of variance, and a second neural network is trained on the reduced dataset. Key comparisons include feature counts before/after encoding and PCA, training times, and model performance. Finally, the optimized PCA-based model is saved for future use.\n",
    "\n",
    "### Data Loading & Preprocessing\n",
    "\n",
    "Assigning proper column headers using the .names file.\n",
    "Splitting data into 80% training and 20% testing sets.\n",
    "One-Hot Encoding for features and Label Encoding for the target variable.\n",
    "\n",
    "### Neural Network Model (Baseline)\n",
    "\n",
    "##### Building a Sequential Neural Network with:\n",
    "Input Layer (dimensions matching encoded features).\n",
    "Output Layer (1 unit with sigmoid activation for binary classification).\n",
    "Training the model and timing it with %%time.\n",
    "Evaluating performance using ConfusionMatrixDisplay.\n",
    "\n",
    "### Dimensionality Reduction with PCA\n",
    "\n",
    "Applying PCA to retain 95% of variance.\n",
    "Training a new neural network on reduced features and comparing training time.\n",
    "\n",
    "### Model Analysis & Comparison\n",
    "\n",
    "Comparing feature counts before/after encoding and PCA.\n",
    "Discussing neural network architecture (units, connections).\n",
    "Evaluating training time differences between baseline and PCA models.\n",
    "Saving the PCA-trained model using `model.save()."
   ]
  },
  {
   "cell_type": "code",
   "execution_count": 1,
   "id": "79fbe10c-9778-4ec8-badb-64d94afb5a31",
   "metadata": {},
   "outputs": [
    {
     "name": "stderr",
     "output_type": "stream",
     "text": [
      "2025-04-27 10:05:28.949028: I tensorflow/core/platform/cpu_feature_guard.cc:210] This TensorFlow binary is optimized to use available CPU instructions in performance-critical operations.\n",
      "To enable the following instructions: AVX2 FMA, in other operations, rebuild TensorFlow with the appropriate compiler flags.\n"
     ]
    }
   ],
   "source": [
    "import numpy as np \n",
    "import pandas as pd \n",
    "import matplotlib.pyplot as plt \n",
    "import seaborn as sns\n",
    "from sklearn.model_selection import train_test_split\n",
    "from sklearn.preprocessing import LabelEncoder, OneHotEncoder\n",
    "from tensorflow.keras import Sequential\n",
    "from tensorflow.keras.layers import Dense"
   ]
  },
  {
   "cell_type": "markdown",
   "id": "38ae64a4",
   "metadata": {},
   "source": [
    "### Load the Data with Proper Column Headers"
   ]
  },
  {
   "cell_type": "code",
   "execution_count": 2,
   "id": "1675e3d7",
   "metadata": {},
   "outputs": [],
   "source": [
    "# Define column names listed in the .names file\n",
    "column_names = [\n",
    "    'class', 'cap-shape', 'cap-surface', 'cap-color', 'bruises', 'odor',\n",
    "    'gill-attachment', 'gill-spacing', 'gill-size', 'gill-color',\n",
    "    'stalk-shape', 'stalk-root', 'stalk-surface-above-ring',\n",
    "    'stalk-surface-below-ring', 'stalk-color-above-ring',\n",
    "    'stalk-color-below-ring', 'veil-type', 'veil-color', 'ring-number',\n",
    "    'ring-type', 'spore-print-color', 'population', 'habitat'\n",
    "]\n",
    "#pd.set_option('display.max_columns', None)\n"
   ]
  },
  {
   "cell_type": "code",
   "execution_count": 3,
   "id": "a53fa607",
   "metadata": {},
   "outputs": [],
   "source": [
    "# Load the CSV file assigning above column names\n",
    "mushroom_data = pd.read_csv('agaricus-lepiota.csv', header=None, names=column_names)\n",
    "#mushroom_data.head()\n",
    "#mushroom_data.info()\n",
    "#print((mushroom_data == '?').sum())\n",
    "#print(mushroom_data.isna().sum())\n",
    "#mushroom_data.describe()"
   ]
  },
  {
   "cell_type": "markdown",
   "id": "3f5c14aa",
   "metadata": {},
   "source": [
    "### Split Data into Training (80%) and Testing (20%)\n"
   ]
  },
  {
   "cell_type": "code",
   "execution_count": 4,
   "id": "4fdd9798",
   "metadata": {},
   "outputs": [],
   "source": [
    "\n",
    "# Split data into features (X) and target (y)\n",
    "X = mushroom_data.drop('class', axis=1)  # All columns except 'class'\n",
    "y = mushroom_data['class']               # Target variable\n",
    "\n",
    "# Split into training (80%) and testing (20%) sets\n",
    "X_train, X_test, y_train, y_test = train_test_split(X, y, test_size=0.2)\n",
    "\n",
    "\n",
    "# Verify\n",
    "#print(f\"Training set: {X_train.shape[0]} samples\")\n",
    "#print(f\"Test set: {X_test.shape[0]} samples\")\n",
    "#print(\"\\nClass distribution in training set:\")\n",
    "#print(y_train.value_counts(normalize=True))\n"
   ]
  },
  {
   "cell_type": "markdown",
   "id": "6efa6ba2",
   "metadata": {},
   "source": [
    "### One-Hot Encode Features"
   ]
  },
  {
   "cell_type": "code",
   "execution_count": 5,
   "id": "70fb1c9e",
   "metadata": {},
   "outputs": [],
   "source": [
    "# One-Hot Encode the features\n",
    "one_hot_encoder = OneHotEncoder(drop='first', sparse_output=False)\n",
    "X_train_encoded = one_hot_encoder.fit_transform(X_train)\n",
    "X_test_encoded = one_hot_encoder.transform(X_test)\n",
    "\n",
    "\n",
    "#print(X_train_encoded[:5])  # First 5 samples\n",
    "\n"
   ]
  },
  {
   "cell_type": "markdown",
   "id": "c5146d50",
   "metadata": {},
   "source": [
    "### Label Encode Target"
   ]
  },
  {
   "cell_type": "code",
   "execution_count": 6,
   "id": "37fea4ea",
   "metadata": {},
   "outputs": [],
   "source": [
    "#Label Encode Target \n",
    "label_encoder = LabelEncoder()\n",
    "y_train_encoded = label_encoder.fit_transform(y_train)\n",
    "y_test_encoded = label_encoder.transform(y_test)\n",
    "# Verify shapes\n",
    "#print(\"Feature shapes:\")\n",
    "#print(f\"X_train: {X_train_encoded.shape}, X_test: {X_test_encoded.shape}\")\n",
    "#print(\"\\nTarget shapes:\")\n",
    "#print(f\"y_train: {y_train_encoded.shape}, y_test: {y_test_encoded.shape}\")\n",
    "\n",
    "\n",
    "   "
   ]
  },
  {
   "cell_type": "markdown",
   "id": "bee15866",
   "metadata": {},
   "source": [
    "### Sequential neural network with timing:"
   ]
  },
  {
   "cell_type": "code",
   "execution_count": 7,
   "id": "b4c4775d",
   "metadata": {},
   "outputs": [
    {
     "name": "stdout",
     "output_type": "stream",
     "text": [
      "Epoch 1/10\n"
     ]
    },
    {
     "name": "stderr",
     "output_type": "stream",
     "text": [
      "/Applications/anaconda3/envs/dtsc680/lib/python3.11/site-packages/keras/src/layers/core/dense.py:87: UserWarning: Do not pass an `input_shape`/`input_dim` argument to a layer. When using Sequential models, prefer using an `Input(shape)` object as the first layer in the model instead.\n",
      "  super().__init__(activity_regularizer=activity_regularizer, **kwargs)\n"
     ]
    },
    {
     "name": "stdout",
     "output_type": "stream",
     "text": [
      "\u001b[1m204/204\u001b[0m \u001b[32m━━━━━━━━━━━━━━━━━━━━\u001b[0m\u001b[37m\u001b[0m \u001b[1m1s\u001b[0m 1ms/step - accuracy: 0.8889 - loss: 0.3133\n",
      "Epoch 2/10\n",
      "\u001b[1m204/204\u001b[0m \u001b[32m━━━━━━━━━━━━━━━━━━━━\u001b[0m\u001b[37m\u001b[0m \u001b[1m0s\u001b[0m 1ms/step - accuracy: 0.9946 - loss: 0.0329\n",
      "Epoch 3/10\n",
      "\u001b[1m204/204\u001b[0m \u001b[32m━━━━━━━━━━━━━━━━━━━━\u001b[0m\u001b[37m\u001b[0m \u001b[1m0s\u001b[0m 1ms/step - accuracy: 0.9993 - loss: 0.0117\n",
      "Epoch 4/10\n",
      "\u001b[1m204/204\u001b[0m \u001b[32m━━━━━━━━━━━━━━━━━━━━\u001b[0m\u001b[37m\u001b[0m \u001b[1m0s\u001b[0m 1ms/step - accuracy: 0.9997 - loss: 0.0054\n",
      "Epoch 5/10\n",
      "\u001b[1m204/204\u001b[0m \u001b[32m━━━━━━━━━━━━━━━━━━━━\u001b[0m\u001b[37m\u001b[0m \u001b[1m0s\u001b[0m 1ms/step - accuracy: 0.9999 - loss: 0.0037\n",
      "Epoch 6/10\n",
      "\u001b[1m204/204\u001b[0m \u001b[32m━━━━━━━━━━━━━━━━━━━━\u001b[0m\u001b[37m\u001b[0m \u001b[1m0s\u001b[0m 1ms/step - accuracy: 0.9995 - loss: 0.0026\n",
      "Epoch 7/10\n",
      "\u001b[1m204/204\u001b[0m \u001b[32m━━━━━━━━━━━━━━━━━━━━\u001b[0m\u001b[37m\u001b[0m \u001b[1m0s\u001b[0m 1ms/step - accuracy: 1.0000 - loss: 0.0014\n",
      "Epoch 8/10\n",
      "\u001b[1m204/204\u001b[0m \u001b[32m━━━━━━━━━━━━━━━━━━━━\u001b[0m\u001b[37m\u001b[0m \u001b[1m0s\u001b[0m 1ms/step - accuracy: 1.0000 - loss: 0.0011\n",
      "Epoch 9/10\n",
      "\u001b[1m204/204\u001b[0m \u001b[32m━━━━━━━━━━━━━━━━━━━━\u001b[0m\u001b[37m\u001b[0m \u001b[1m0s\u001b[0m 1ms/step - accuracy: 1.0000 - loss: 7.0882e-04\n",
      "Epoch 10/10\n",
      "\u001b[1m204/204\u001b[0m \u001b[32m━━━━━━━━━━━━━━━━━━━━\u001b[0m\u001b[37m\u001b[0m \u001b[1m0s\u001b[0m 1ms/step - accuracy: 1.0000 - loss: 6.1810e-04\n",
      "CPU times: user 3.67 s, sys: 367 ms, total: 4.03 s\n",
      "Wall time: 3.25 s\n",
      "\u001b[1m51/51\u001b[0m \u001b[32m━━━━━━━━━━━━━━━━━━━━\u001b[0m\u001b[37m\u001b[0m \u001b[1m0s\u001b[0m 1ms/step - accuracy: 1.0000 - loss: 6.0593e-04  \n"
     ]
    }
   ],
   "source": [
    "# 1. Create model\n",
    "model = Sequential([\n",
    "    Dense(64, activation='relu', input_shape=(X_train_encoded.shape[1],)),\n",
    "    Dense(1, activation='sigmoid')\n",
    "])\n",
    "\n",
    "# 2. Compile\n",
    "model.compile(optimizer='adam',\n",
    "              loss='binary_crossentropy',\n",
    "              metrics=['accuracy'])\n",
    "\n",
    "# 3. Time training \n",
    "%time history = model.fit(X_train_encoded, y_train_encoded, epochs=10, batch_size=32, verbose=1)\n",
    "# 4. Evaluate\n",
    "loss, accuracy = model.evaluate(X_test_encoded, y_test_encoded)\n",
    "#print(f\"Test Accuracy: {accuracy:.2%}\")\n",
    "\n"
   ]
  },
  {
   "cell_type": "markdown",
   "id": "dd86636d",
   "metadata": {},
   "source": [
    "###  Scikit Learn's ConfusionMatrixDisplay "
   ]
  },
  {
   "cell_type": "code",
   "execution_count": 8,
   "id": "87fac78e",
   "metadata": {},
   "outputs": [
    {
     "name": "stdout",
     "output_type": "stream",
     "text": [
      "\u001b[1m51/51\u001b[0m \u001b[32m━━━━━━━━━━━━━━━━━━━━\u001b[0m\u001b[37m\u001b[0m \u001b[1m0s\u001b[0m 1ms/step \n"
     ]
    },
    {
     "data": {
      "image/png": "[encoded data removed]",
      "text/plain": [
       "<Figure size 640x480 with 2 Axes>"
      ]
     },
     "metadata": {},
     "output_type": "display_data"
    }
   ],
   "source": [
    "from sklearn.metrics import confusion_matrix, ConfusionMatrixDisplay\n",
    "\n",
    "# 1. Get predictions\n",
    "y_pred = (model.predict(X_test_encoded) > 0.5).astype(\"int32\")\n",
    "\n",
    "# 2. Create confusion matrix\n",
    "cm = confusion_matrix(y_test_encoded, y_pred)\n",
    "\n",
    "# 3. Plot with labels\n",
    "disp = ConfusionMatrixDisplay(confusion_matrix=cm,\n",
    "                             display_labels=['Edible (e)', 'Poisonous (p)'])\n",
    "disp.plot(cmap='Blues')\n",
    "plt.title('Mushroom Classification Confusion Matrix')\n",
    "plt.show()"
   ]
  },
  {
   "cell_type": "markdown",
   "id": "6a9fe859",
   "metadata": {},
   "source": [
    "### PCA"
   ]
  },
  {
   "cell_type": "code",
   "execution_count": 9,
   "id": "22bc6159",
   "metadata": {},
   "outputs": [],
   "source": [
    "from sklearn.decomposition import PCA\n",
    "\n",
    "# Perform PCA\n",
    "pca = PCA(n_components=0.95)  \n",
    "X_train_pca = pca.fit_transform(X_train_encoded)\n",
    "X_test_pca = pca.transform(X_test_encoded)\n",
    "\n",
    "#print(f\"Original features: {X_train_encoded.shape[1]}\")\n",
    "#print(f\"Reduced features: {X_train_pca.shape[1]}\")\n",
    "#print(f\"Variance retained: {sum(pca.explained_variance_ratio_):.2%}\")\n",
    "\n"
   ]
  },
  {
   "cell_type": "markdown",
   "id": "c36b40db",
   "metadata": {},
   "source": [
    "### New Neural Network on PCA Data"
   ]
  },
  {
   "cell_type": "code",
   "execution_count": 10,
   "id": "408f6dc4",
   "metadata": {},
   "outputs": [
    {
     "name": "stdout",
     "output_type": "stream",
     "text": [
      "Epoch 1/15\n"
     ]
    },
    {
     "name": "stderr",
     "output_type": "stream",
     "text": [
      "/Applications/anaconda3/envs/dtsc680/lib/python3.11/site-packages/keras/src/layers/core/dense.py:87: UserWarning: Do not pass an `input_shape`/`input_dim` argument to a layer. When using Sequential models, prefer using an `Input(shape)` object as the first layer in the model instead.\n",
      "  super().__init__(activity_regularizer=activity_regularizer, **kwargs)\n"
     ]
    },
    {
     "name": "stdout",
     "output_type": "stream",
     "text": [
      "\u001b[1m183/183\u001b[0m \u001b[32m━━━━━━━━━━━━━━━━━━━━\u001b[0m\u001b[37m\u001b[0m \u001b[1m1s\u001b[0m 2ms/step - accuracy: 0.6669 - loss: 0.6132 - val_accuracy: 0.9677 - val_loss: 0.2273\n",
      "Epoch 2/15\n",
      "\u001b[1m183/183\u001b[0m \u001b[32m━━━━━━━━━━━━━━━━━━━━\u001b[0m\u001b[37m\u001b[0m \u001b[1m0s\u001b[0m 1ms/step - accuracy: 0.9719 - loss: 0.1758 - val_accuracy: 0.9785 - val_loss: 0.0895\n",
      "Epoch 3/15\n",
      "\u001b[1m183/183\u001b[0m \u001b[32m━━━━━━━━━━━━━━━━━━━━\u001b[0m\u001b[37m\u001b[0m \u001b[1m0s\u001b[0m 1ms/step - accuracy: 0.9814 - loss: 0.0767 - val_accuracy: 0.9862 - val_loss: 0.0540\n",
      "Epoch 4/15\n",
      "\u001b[1m183/183\u001b[0m \u001b[32m━━━━━━━━━━━━━━━━━━━━\u001b[0m\u001b[37m\u001b[0m \u001b[1m0s\u001b[0m 1ms/step - accuracy: 0.9905 - loss: 0.0431 - val_accuracy: 0.9938 - val_loss: 0.0351\n",
      "Epoch 5/15\n",
      "\u001b[1m183/183\u001b[0m \u001b[32m━━━━━━━━━━━━━━━━━━━━\u001b[0m\u001b[37m\u001b[0m \u001b[1m0s\u001b[0m 1ms/step - accuracy: 0.9916 - loss: 0.0304 - val_accuracy: 0.9985 - val_loss: 0.0249\n",
      "Epoch 6/15\n",
      "\u001b[1m183/183\u001b[0m \u001b[32m━━━━━━━━━━━━━━━━━━━━\u001b[0m\u001b[37m\u001b[0m \u001b[1m0s\u001b[0m 1ms/step - accuracy: 0.9964 - loss: 0.0236 - val_accuracy: 1.0000 - val_loss: 0.0183\n",
      "Epoch 7/15\n",
      "\u001b[1m183/183\u001b[0m \u001b[32m━━━━━━━━━━━━━━━━━━━━\u001b[0m\u001b[37m\u001b[0m \u001b[1m0s\u001b[0m 1ms/step - accuracy: 0.9985 - loss: 0.0174 - val_accuracy: 1.0000 - val_loss: 0.0143\n",
      "Epoch 8/15\n",
      "\u001b[1m183/183\u001b[0m \u001b[32m━━━━━━━━━━━━━━━━━━━━\u001b[0m\u001b[37m\u001b[0m \u001b[1m0s\u001b[0m 1ms/step - accuracy: 0.9993 - loss: 0.0132 - val_accuracy: 1.0000 - val_loss: 0.0111\n",
      "Epoch 9/15\n",
      "\u001b[1m183/183\u001b[0m \u001b[32m━━━━━━━━━━━━━━━━━━━━\u001b[0m\u001b[37m\u001b[0m \u001b[1m0s\u001b[0m 2ms/step - accuracy: 0.9996 - loss: 0.0093 - val_accuracy: 1.0000 - val_loss: 0.0089\n",
      "Epoch 10/15\n",
      "\u001b[1m183/183\u001b[0m \u001b[32m━━━━━━━━━━━━━━━━━━━━\u001b[0m\u001b[37m\u001b[0m \u001b[1m0s\u001b[0m 1ms/step - accuracy: 0.9993 - loss: 0.0086 - val_accuracy: 1.0000 - val_loss: 0.0071\n",
      "Epoch 11/15\n",
      "\u001b[1m183/183\u001b[0m \u001b[32m━━━━━━━━━━━━━━━━━━━━\u001b[0m\u001b[37m\u001b[0m \u001b[1m0s\u001b[0m 2ms/step - accuracy: 0.9994 - loss: 0.0060 - val_accuracy: 1.0000 - val_loss: 0.0060\n",
      "Epoch 12/15\n",
      "\u001b[1m183/183\u001b[0m \u001b[32m━━━━━━━━━━━━━━━━━━━━\u001b[0m\u001b[37m\u001b[0m \u001b[1m0s\u001b[0m 1ms/step - accuracy: 0.9993 - loss: 0.0054 - val_accuracy: 1.0000 - val_loss: 0.0049\n",
      "Epoch 13/15\n",
      "\u001b[1m183/183\u001b[0m \u001b[32m━━━━━━━━━━━━━━━━━━━━\u001b[0m\u001b[37m\u001b[0m \u001b[1m0s\u001b[0m 1ms/step - accuracy: 0.9997 - loss: 0.0044 - val_accuracy: 1.0000 - val_loss: 0.0041\n",
      "Epoch 14/15\n",
      "\u001b[1m183/183\u001b[0m \u001b[32m━━━━━━━━━━━━━━━━━━━━\u001b[0m\u001b[37m\u001b[0m \u001b[1m0s\u001b[0m 1ms/step - accuracy: 0.9996 - loss: 0.0044 - val_accuracy: 1.0000 - val_loss: 0.0034\n",
      "Epoch 15/15\n",
      "\u001b[1m183/183\u001b[0m \u001b[32m━━━━━━━━━━━━━━━━━━━━\u001b[0m\u001b[37m\u001b[0m \u001b[1m0s\u001b[0m 1ms/step - accuracy: 0.9997 - loss: 0.0033 - val_accuracy: 1.0000 - val_loss: 0.0029\n",
      "CPU times: user 6.31 s, sys: 918 ms, total: 7.23 s\n",
      "Wall time: 5.13 s\n"
     ]
    }
   ],
   "source": [
    "\n",
    "# 8. Create and train PCA model\n",
    "model_pca = Sequential([\n",
    "    Dense(32, activation='relu', input_shape=(X_train_pca.shape[1],)),\n",
    "    Dense(1, activation='sigmoid')\n",
    "])\n",
    "model_pca.compile(optimizer='adam', loss='binary_crossentropy', metrics=['accuracy'])\n",
    "\n",
    "#print(\"\\nTraining PCA model...\")\n",
    "%time history_pca = model_pca.fit(X_train_pca, y_train_encoded,epochs=15, batch_size=32,validation_split=0.1, verbose=1)"
   ]
  },
  {
   "cell_type": "markdown",
   "id": "a7c4ba3f",
   "metadata": {},
   "source": [
    "### Confusion Matrix for PCA Model\n"
   ]
  },
  {
   "cell_type": "code",
   "execution_count": 11,
   "id": "bb327ac6",
   "metadata": {},
   "outputs": [
    {
     "name": "stdout",
     "output_type": "stream",
     "text": [
      "\u001b[1m51/51\u001b[0m \u001b[32m━━━━━━━━━━━━━━━━━━━━\u001b[0m\u001b[37m\u001b[0m \u001b[1m0s\u001b[0m 1ms/step\n"
     ]
    },
    {
     "data": {
      "image/png": "[encoded data removed]",
      "text/plain": [
       "<Figure size 640x480 with 2 Axes>"
      ]
     },
     "metadata": {},
     "output_type": "display_data"
    }
   ],
   "source": [
    "# 1. Generate predictions WITH THE PCA MODEL\n",
    "y_pred = (model_pca.predict(X_test_pca) > 0.5).astype(\"int32\")  \n",
    "\n",
    "# 2. Plot confusion matrix\n",
    "disp = ConfusionMatrixDisplay.from_predictions(\n",
    "    y_test_encoded, \n",
    "    y_pred,\n",
    "    display_labels=['Edible (e)', 'Poisonous (p)'],\n",
    "    cmap='Blues',\n",
    "    values_format='d'\n",
    ")\n",
    "plt.title(f\"Confusion Matrix (PCA-Reduced Model)\\n{X_train_pca.shape[1]} Features, {100*pca.explained_variance_ratio_.sum():.2f}% Variance\")\n",
    "plt.show()"
   ]
  },
  {
   "cell_type": "markdown",
   "id": "1a436037",
   "metadata": {},
   "source": [
    "### Concept Questions Answers\n",
    "\n",
    "### 1. Feature Count After One-Hot Encoding\n",
    "\n",
    "Original features: 22 categorical features(excluding traget)\n",
    "After one-hot encoding: 94 binary features\n",
    "(Each categorical feature with 'k' categories becomes 'k-1' binary columns due to 'drop=first')\n",
    "\n",
    "### 2. Output Layer Units\n",
    "Unit paramerer- 1 : Binary classification requires only 1 output unit with sigmoid activation, which outputs a probability between 0 (edible) and 1 (poisonous).\n",
    "\n",
    "### 3. Neural Network Connections\n",
    "6145 connections\n",
    "\n",
    "\n",
    "### 4. Features After Dimensionality Reduction\n",
    "The training data contains 38 features after PCA reduction, compared to 94 features in the one-hot encoded data, achieving a 59.6% reduction while retaining 95.38% of the variance.\n",
    "\n",
    "\n",
    "### 5. Why input_dim  Changed\n",
    "The input_dim parameter changes from 94 (one-hot encoded features) to 38 (PCA-reduced features) because PCA transforms the data into a lower-dimensional space while preserving most of the variance.\n",
    "\n",
    "\n",
    "### 6. Training Time Comparison\n",
    "Yes, The PCA-reduced neural network trained ~46% faster (3.12s vs 5.84s for 15 epochs) than the original network, which was expected due to the 59.6% reduction in input features while maintaining near-identical accuracy.\n",
    "  \n",
    " #### The results confirm that PCA is highly effective for this dataset, where most predictive information is concentrated in a subset of principal components."
   ]
  },
  {
   "cell_type": "code",
   "execution_count": 12,
   "id": "7c5427d4",
   "metadata": {},
   "outputs": [],
   "source": [
    "from tensorflow.keras.models import save_model, load_model\n",
    "\n",
    "model_pca.save(\"pca_mushroom_model.keras\")"
   ]
  }
 ],
 "metadata": {
  "kernelspec": {
   "display_name": "dtsc680",
   "language": "python",
   "name": "dtsc680"
  },
  "language_info": {
   "codemirror_mode": {
    "name": "ipython",
    "version": 3
   },
   "file_extension": ".py",
   "mimetype": "text/x-python",
   "name": "python",
   "nbconvert_exporter": "python",
   "pygments_lexer": "ipython3",
   "version": "3.11.12"
  }
 },
 "nbformat": 4,
 "nbformat_minor": 5
}
